{
 "cells": [
  {
   "cell_type": "markdown",
   "metadata": {},
   "source": [
    "# GitHub Repository Statistics Analysis\n",
    "\n",
    "This notebook extracts GitHub repository statistics and displays them in grouped tables.\n",
    "\n",
    "## Authentication Setup\n",
    "\n",
    "To avoid rate limits, set up a GitHub Personal Access Token:\n",
    "1. Go to GitHub Settings > Developer settings > Personal access tokens\n",
    "2. Generate a new token with 'public_repo' scope\n",
    "3. Set environment variable: `export GITHUB_TOKEN=your_token_here`\n",
    "\n",
    "Without authentication: 60 requests/hour  \n",
    "With authentication: 5000 requests/hour"
   ]
  },
  {
   "cell_type": "code",
   "execution_count": 1,
   "metadata": {
    "execution": {
     "iopub.execute_input": "2025-07-28T17:13:58.339139Z",
     "iopub.status.busy": "2025-07-28T17:13:58.337631Z",
     "iopub.status.idle": "2025-07-28T17:14:03.344386Z",
     "shell.execute_reply": "2025-07-28T17:14:03.344386Z"
    }
   },
   "outputs": [
    {
     "name": "stdout",
     "output_type": "stream",
     "text": [
      "Libraries imported successfully!\n",
      "GitHub token available: Yes\n"
     ]
    }
   ],
   "source": [
    "# Cell 1: Setup and Imports\n",
    "import requests\n",
    "import pandas as pd\n",
    "from datetime import datetime\n",
    "import time\n",
    "import os\n",
    "from IPython.display import HTML, display\n",
    "import json\n",
    "\n",
    "print(\"Libraries imported successfully!\")\n",
    "print(f\"GitHub token available: {'Yes' if os.environ.get('GITHUB_TOKEN') else 'No (using unauthenticated requests)'}\")"
   ]
  },
  {
   "cell_type": "code",
   "execution_count": 2,
   "metadata": {
    "execution": {
     "iopub.execute_input": "2025-07-28T17:14:03.382279Z",
     "iopub.status.busy": "2025-07-28T17:14:03.381281Z",
     "iopub.status.idle": "2025-07-28T17:14:03.388349Z",
     "shell.execute_reply": "2025-07-28T17:14:03.388349Z"
    }
   },
   "outputs": [
    {
     "name": "stdout",
     "output_type": "stream",
     "text": [
      "Total repositories to analyze: 55\n",
      "AI/ML: 20 repositories\n",
      "TypeScript: 21 repositories\n",
      "C# ASP.NET: 13 repositories\n",
      "Other: 1 repositories\n"
     ]
    }
   ],
   "source": [
    "# Cell 2: Repository List with Categories\n",
    "repositories = {\n",
    "    \"AI/ML\": [\n",
    "        \"huggingface/trl\",\n",
    "        \"Significant-Gravitas/AutoGPT\",\n",
    "        \"open-webui/open-webui\",\n",
    "        \"comfyanonymous/ComfyUI\",\n",
    "        \"langchain-ai/langchain\",\n",
    "        \"huggingface/transformers\",\n",
    "        \"ollama/ollama\",\n",
    "        \"vllm-project/vllm\",\n",
    "        \"n8n-io/n8n\",\n",
    "        \"iterative/dvc\",\n",
    "        \"langgenius/dify\",\n",
    "        \"HumanSignal/label-studio\",\n",
    "        \"microsoft/ML-For-Beginners\",\n",
    "        \"cleanlab/cleanlab\",\n",
    "        \"voxel51/fiftyone\",\n",
    "        \"fastai/fastbook\",\n",
    "        \"pytorch/pytorch\",\n",
    "        \"tensorflow/tensorflow\",\n",
    "        \"scikit-learn/scikit-learn\",\n",
    "        \"pandas-dev/pandas\"\n",
    "    ],\n",
    "    \"TypeScript\": [\n",
    "        \"nestjs/nest\",\n",
    "        \"prisma/prisma\",\n",
    "        \"adonisjs/core\",\n",
    "        \"typeorm/typeorm\",\n",
    "        \"sequelize/sequelize\",\n",
    "        \"trpc/trpc\",\n",
    "        \"fastify/fastify\",\n",
    "        \"taskforcesh/bullmq\",\n",
    "        \"mikro-orm/mikro-orm\",\n",
    "        \"drizzle-team/drizzle-orm\",\n",
    "        \"kysely-org/kysely\",\n",
    "        \"colinhacks/zod\",\n",
    "        \"winstonjs/winston\",\n",
    "        \"pinojs/pino\",\n",
    "        \"helmetjs/helmet\",\n",
    "        \"moleculerjs/moleculer\",\n",
    "        \"typestack/routing-controllers\",\n",
    "        \"lukeautry/tsoa\",\n",
    "        \"tsedio/tsed\",\n",
    "        \"lobehub/lobe-chat\",\n",
    "        \"vercel/ai\"\n",
    "    ],\n",
    "    \"C# ASP.NET\": [\n",
    "        \"dotnet/aspnetcore\",\n",
    "        \"aspnetrun/run-aspnetcore-microservices\",\n",
    "        \"DapperLib/Dapper\",\n",
    "        \"jasontaylordev/CleanArchitecture\",\n",
    "        \"dotnet/efcore\",\n",
    "        \"App-vNext/Polly\",\n",
    "        \"dotnet/orleans\",\n",
    "        \"HangfireIO/Hangfire\",\n",
    "        \"nopSolutions/nopCommerce\",\n",
    "        \"ThreeMammals/Ocelot\",\n",
    "        \"OrchardCMS/OrchardCore\",\n",
    "        \"dotnetcore/CAP\",\n",
    "        \"gothinkster/aspnetcore-realworld-example-app\"\n",
    "    ],\n",
    "    \"Other\": [\n",
    "        \"karpathy/nn-zero-to-hero\"\n",
    "    ]\n",
    "}\n",
    "\n",
    "total_repos = sum(len(repos) for repos in repositories.values())\n",
    "print(f\"Total repositories to analyze: {total_repos}\")\n",
    "for field, repos in repositories.items():\n",
    "    print(f\"{field}: {len(repos)} repositories\")"
   ]
  },
  {
   "cell_type": "code",
   "execution_count": 3,
   "metadata": {
    "execution": {
     "iopub.execute_input": "2025-07-28T17:14:03.390972Z",
     "iopub.status.busy": "2025-07-28T17:14:03.389856Z",
     "iopub.status.idle": "2025-07-28T17:14:03.402600Z",
     "shell.execute_reply": "2025-07-28T17:14:03.402600Z"
    }
   },
   "outputs": [
    {
     "name": "stdout",
     "output_type": "stream",
     "text": [
      "✅ GitHub API functions defined successfully!\n"
     ]
    }
   ],
   "source": [
    "# Cell 3: GitHub API Functions\n",
    "\n",
    "def get_repo_stats(owner, repo, token=None):\n",
    "    \"\"\"\n",
    "    Fetch repository statistics from GitHub API\n",
    "    \"\"\"\n",
    "    headers = {}\n",
    "    if token:\n",
    "        headers['Authorization'] = f'token {token}'\n",
    "    \n",
    "    # Main repository info\n",
    "    repo_url = f'https://api.github.com/repos/{owner}/{repo}'\n",
    "    \n",
    "    try:\n",
    "        response = requests.get(repo_url, headers=headers)\n",
    "        \n",
    "        if response.status_code == 404:\n",
    "            print(f\"⚠️  Repository {owner}/{repo} not found (404)\")\n",
    "            return None\n",
    "        elif response.status_code == 403:\n",
    "            print(f\"⚠️  Access denied to {owner}/{repo} (403 - private repo?)\")\n",
    "            return None\n",
    "        elif response.status_code == 429:\n",
    "            print(f\"⚠️  Rate limit exceeded. Waiting 60 seconds...\")\n",
    "            time.sleep(60)\n",
    "            return get_repo_stats(owner, repo, token)  # Retry\n",
    "        \n",
    "        response.raise_for_status()\n",
    "        repo_data = response.json()\n",
    "        \n",
    "        # Get contributors count\n",
    "        contributors_count = get_contributors_count(owner, repo, headers)\n",
    "        \n",
    "        # Get open pull requests count\n",
    "        open_prs_count = get_open_prs_count(owner, repo, headers)\n",
    "        \n",
    "        return {\n",
    "            'repo_path': f'{owner}/{repo}',\n",
    "            'stars': repo_data['stargazers_count'],\n",
    "            'forks': repo_data['forks_count'],\n",
    "            'contributors': contributors_count,\n",
    "            'open_issues': repo_data['open_issues_count'],\n",
    "            'open_prs': open_prs_count,\n",
    "            'created_at': repo_data['created_at'][:10],  # YYYY-MM-DD\n",
    "            'pushed_at': repo_data['pushed_at'][:10] if repo_data['pushed_at'] else repo_data['created_at'][:10]\n",
    "        }\n",
    "        \n",
    "    except Exception as e:\n",
    "        print(f\"❌ Error fetching {owner}/{repo}: {str(e)}\")\n",
    "        return None\n",
    "\n",
    "def get_contributors_count(owner, repo, headers):\n",
    "    \"\"\"\n",
    "    Get the number of contributors for a repository\n",
    "    \"\"\"\n",
    "    try:\n",
    "        contributors_url = f'https://api.github.com/repos/{owner}/{repo}/contributors?per_page=1'\n",
    "        response = requests.get(contributors_url, headers=headers)\n",
    "        \n",
    "        if response.status_code == 200:\n",
    "            # Check if there's a 'Link' header for pagination\n",
    "            if 'Link' in response.headers:\n",
    "                link_header = response.headers['Link']\n",
    "                # Parse the last page number from the Link header\n",
    "                if 'rel=\"last\"' in link_header:\n",
    "                    last_page = link_header.split('page=')[1].split('&')[0].split('>')[0]\n",
    "                    return int(last_page)\n",
    "            \n",
    "            # If no pagination, count the contributors directly\n",
    "            contributors_response = requests.get(f'https://api.github.com/repos/{owner}/{repo}/contributors', headers=headers)\n",
    "            if contributors_response.status_code == 200:\n",
    "                return len(contributors_response.json())\n",
    "        \n",
    "        return 0\n",
    "    except:\n",
    "        return 0\n",
    "\n",
    "def get_open_prs_count(owner, repo, headers):\n",
    "    \"\"\"\n",
    "    Get the number of open pull requests\n",
    "    \"\"\"\n",
    "    try:\n",
    "        prs_url = f'https://api.github.com/repos/{owner}/{repo}/pulls?state=open&per_page=1'\n",
    "        response = requests.get(prs_url, headers=headers)\n",
    "        \n",
    "        if response.status_code == 200:\n",
    "            # Check if there's a 'Link' header for pagination\n",
    "            if 'Link' in response.headers:\n",
    "                link_header = response.headers['Link']\n",
    "                if 'rel=\"last\"' in link_header:\n",
    "                    last_page = link_header.split('page=')[1].split('&')[0].split('>')[0]\n",
    "                    return int(last_page)\n",
    "            \n",
    "            # If no pagination, count directly\n",
    "            prs_response = requests.get(f'https://api.github.com/repos/{owner}/{repo}/pulls?state=open', headers=headers)\n",
    "            if prs_response.status_code == 200:\n",
    "                return len(prs_response.json())\n",
    "        \n",
    "        return 0\n",
    "    except:\n",
    "        return 0\n",
    "\n",
    "def fetch_all_repositories(repositories_dict, token=None):\n",
    "    \"\"\"\n",
    "    Fetch statistics for all repositories\n",
    "    \"\"\"\n",
    "    results = []\n",
    "    total_repos = sum(len(repos) for repos in repositories_dict.values())\n",
    "    current_repo = 0\n",
    "    \n",
    "    for field, repo_list in repositories_dict.items():\n",
    "        print(f\"\\n🔍 Processing {field} repositories...\")\n",
    "        \n",
    "        for repo_path in repo_list:\n",
    "            current_repo += 1\n",
    "            owner, repo = repo_path.split('/')\n",
    "            \n",
    "            print(f\"[{current_repo}/{total_repos}] Fetching {repo_path}... \", end=\"\")\n",
    "            \n",
    "            stats = get_repo_stats(owner, repo, token)\n",
    "            if stats:\n",
    "                stats['field'] = field\n",
    "                results.append(stats)\n",
    "                print(f\"✅ {stats['stars']} stars\")\n",
    "            else:\n",
    "                print(\"❌ Failed\")\n",
    "            \n",
    "            # Rate limiting - be respectful to GitHub API\n",
    "            time.sleep(0.1)\n",
    "    \n",
    "    return results\n",
    "\n",
    "print(\"✅ GitHub API functions defined successfully!\")"
   ]
  },
  {
   "cell_type": "code",
   "execution_count": 4,
   "metadata": {
    "execution": {
     "iopub.execute_input": "2025-07-28T17:14:03.405084Z",
     "iopub.status.busy": "2025-07-28T17:14:03.404089Z",
     "iopub.status.idle": "2025-07-28T17:16:02.383328Z",
     "shell.execute_reply": "2025-07-28T17:16:02.383328Z"
    }
   },
   "outputs": [
    {
     "name": "stdout",
     "output_type": "stream",
     "text": [
      "🚀 Starting data collection...\n",
      "Authentication: Enabled\n",
      "==================================================\n",
      "\n",
      "🔍 Processing AI/ML repositories...\n",
      "[1/55] Fetching huggingface/trl... "
     ]
    },
    {
     "name": "stdout",
     "output_type": "stream",
     "text": [
      "✅ 14768 stars\n",
      "[2/55] Fetching Significant-Gravitas/AutoGPT... "
     ]
    },
    {
     "name": "stdout",
     "output_type": "stream",
     "text": [
      "✅ 177287 stars\n",
      "[3/55] Fetching open-webui/open-webui... "
     ]
    },
    {
     "name": "stdout",
     "output_type": "stream",
     "text": [
      "✅ 104200 stars\n",
      "[4/55] Fetching comfyanonymous/ComfyUI... "
     ]
    },
    {
     "name": "stdout",
     "output_type": "stream",
     "text": [
      "✅ 83714 stars\n",
      "[5/55] Fetching langchain-ai/langchain... "
     ]
    },
    {
     "name": "stdout",
     "output_type": "stream",
     "text": [
      "✅ 112412 stars\n",
      "[6/55] Fetching huggingface/transformers... "
     ]
    },
    {
     "name": "stdout",
     "output_type": "stream",
     "text": [
      "✅ 147573 stars\n",
      "[7/55] Fetching ollama/ollama... "
     ]
    },
    {
     "name": "stdout",
     "output_type": "stream",
     "text": [
      "✅ 147790 stars\n",
      "[8/55] Fetching vllm-project/vllm... "
     ]
    },
    {
     "name": "stdout",
     "output_type": "stream",
     "text": [
      "✅ 53392 stars\n",
      "[9/55] Fetching n8n-io/n8n... "
     ]
    },
    {
     "name": "stdout",
     "output_type": "stream",
     "text": [
      "✅ 124448 stars\n",
      "[10/55] Fetching iterative/dvc... "
     ]
    },
    {
     "name": "stdout",
     "output_type": "stream",
     "text": [
      "✅ 14705 stars\n",
      "[11/55] Fetching langgenius/dify... "
     ]
    },
    {
     "name": "stdout",
     "output_type": "stream",
     "text": [
      "✅ 108749 stars\n",
      "[12/55] Fetching HumanSignal/label-studio... "
     ]
    },
    {
     "name": "stdout",
     "output_type": "stream",
     "text": [
      "✅ 23920 stars\n",
      "[13/55] Fetching microsoft/ML-For-Beginners... "
     ]
    },
    {
     "name": "stdout",
     "output_type": "stream",
     "text": [
      "✅ 75759 stars\n",
      "[14/55] Fetching cleanlab/cleanlab... "
     ]
    },
    {
     "name": "stdout",
     "output_type": "stream",
     "text": [
      "✅ 10742 stars\n",
      "[15/55] Fetching voxel51/fiftyone... "
     ]
    },
    {
     "name": "stdout",
     "output_type": "stream",
     "text": [
      "✅ 9745 stars\n",
      "[16/55] Fetching fastai/fastbook... "
     ]
    },
    {
     "name": "stdout",
     "output_type": "stream",
     "text": [
      "✅ 23466 stars\n",
      "[17/55] Fetching pytorch/pytorch... "
     ]
    },
    {
     "name": "stdout",
     "output_type": "stream",
     "text": [
      "✅ 91835 stars\n",
      "[18/55] Fetching tensorflow/tensorflow... "
     ]
    },
    {
     "name": "stdout",
     "output_type": "stream",
     "text": [
      "✅ 190933 stars\n",
      "[19/55] Fetching scikit-learn/scikit-learn... "
     ]
    },
    {
     "name": "stdout",
     "output_type": "stream",
     "text": [
      "✅ 62799 stars\n",
      "[20/55] Fetching pandas-dev/pandas... "
     ]
    },
    {
     "name": "stdout",
     "output_type": "stream",
     "text": [
      "✅ 46115 stars\n",
      "\n",
      "🔍 Processing TypeScript repositories...\n",
      "[21/55] Fetching nestjs/nest... "
     ]
    },
    {
     "name": "stdout",
     "output_type": "stream",
     "text": [
      "✅ 71980 stars\n",
      "[22/55] Fetching prisma/prisma... "
     ]
    },
    {
     "name": "stdout",
     "output_type": "stream",
     "text": [
      "✅ 42966 stars\n",
      "[23/55] Fetching adonisjs/core... "
     ]
    },
    {
     "name": "stdout",
     "output_type": "stream",
     "text": [
      "✅ 18068 stars\n",
      "[24/55] Fetching typeorm/typeorm... "
     ]
    },
    {
     "name": "stdout",
     "output_type": "stream",
     "text": [
      "✅ 35593 stars\n",
      "[25/55] Fetching sequelize/sequelize... "
     ]
    },
    {
     "name": "stdout",
     "output_type": "stream",
     "text": [
      "✅ 30098 stars\n",
      "[26/55] Fetching trpc/trpc... "
     ]
    },
    {
     "name": "stdout",
     "output_type": "stream",
     "text": [
      "✅ 38001 stars\n",
      "[27/55] Fetching fastify/fastify... "
     ]
    },
    {
     "name": "stdout",
     "output_type": "stream",
     "text": [
      "✅ 34231 stars\n",
      "[28/55] Fetching taskforcesh/bullmq... "
     ]
    },
    {
     "name": "stdout",
     "output_type": "stream",
     "text": [
      "✅ 7288 stars\n",
      "[29/55] Fetching mikro-orm/mikro-orm... "
     ]
    },
    {
     "name": "stdout",
     "output_type": "stream",
     "text": [
      "✅ 8405 stars\n",
      "[30/55] Fetching drizzle-team/drizzle-orm... "
     ]
    },
    {
     "name": "stdout",
     "output_type": "stream",
     "text": [
      "✅ 29458 stars\n",
      "[31/55] Fetching kysely-org/kysely... "
     ]
    },
    {
     "name": "stdout",
     "output_type": "stream",
     "text": [
      "✅ 12395 stars\n",
      "[32/55] Fetching colinhacks/zod... "
     ]
    },
    {
     "name": "stdout",
     "output_type": "stream",
     "text": [
      "✅ 39247 stars\n",
      "[33/55] Fetching winstonjs/winston... "
     ]
    },
    {
     "name": "stdout",
     "output_type": "stream",
     "text": [
      "✅ 23836 stars\n",
      "[34/55] Fetching pinojs/pino... "
     ]
    },
    {
     "name": "stdout",
     "output_type": "stream",
     "text": [
      "✅ 15840 stars\n",
      "[35/55] Fetching helmetjs/helmet... "
     ]
    },
    {
     "name": "stdout",
     "output_type": "stream",
     "text": [
      "✅ 10465 stars\n",
      "[36/55] Fetching moleculerjs/moleculer... "
     ]
    },
    {
     "name": "stdout",
     "output_type": "stream",
     "text": [
      "✅ 6301 stars\n",
      "[37/55] Fetching typestack/routing-controllers... "
     ]
    },
    {
     "name": "stdout",
     "output_type": "stream",
     "text": [
      "✅ 4479 stars\n",
      "[38/55] Fetching lukeautry/tsoa... "
     ]
    },
    {
     "name": "stdout",
     "output_type": "stream",
     "text": [
      "✅ 3841 stars\n",
      "[39/55] Fetching tsedio/tsed... "
     ]
    },
    {
     "name": "stdout",
     "output_type": "stream",
     "text": [
      "✅ 2997 stars\n",
      "[40/55] Fetching lobehub/lobe-chat... "
     ]
    },
    {
     "name": "stdout",
     "output_type": "stream",
     "text": [
      "✅ 63875 stars\n",
      "[41/55] Fetching vercel/ai... "
     ]
    },
    {
     "name": "stdout",
     "output_type": "stream",
     "text": [
      "✅ 16080 stars\n",
      "\n",
      "🔍 Processing C# ASP.NET repositories...\n",
      "[42/55] Fetching dotnet/aspnetcore... "
     ]
    },
    {
     "name": "stdout",
     "output_type": "stream",
     "text": [
      "✅ 36917 stars\n",
      "[43/55] Fetching aspnetrun/run-aspnetcore-microservices... "
     ]
    },
    {
     "name": "stdout",
     "output_type": "stream",
     "text": [
      "✅ 3052 stars\n",
      "[44/55] Fetching DapperLib/Dapper... "
     ]
    },
    {
     "name": "stdout",
     "output_type": "stream",
     "text": [
      "✅ 17996 stars\n",
      "[45/55] Fetching jasontaylordev/CleanArchitecture... "
     ]
    },
    {
     "name": "stdout",
     "output_type": "stream",
     "text": [
      "✅ 18569 stars\n",
      "[46/55] Fetching dotnet/efcore... "
     ]
    },
    {
     "name": "stdout",
     "output_type": "stream",
     "text": [
      "✅ 14229 stars\n",
      "[47/55] Fetching App-vNext/Polly... "
     ]
    },
    {
     "name": "stdout",
     "output_type": "stream",
     "text": [
      "✅ 13877 stars\n",
      "[48/55] Fetching dotnet/orleans... "
     ]
    },
    {
     "name": "stdout",
     "output_type": "stream",
     "text": [
      "✅ 10441 stars\n",
      "[49/55] Fetching HangfireIO/Hangfire... "
     ]
    },
    {
     "name": "stdout",
     "output_type": "stream",
     "text": [
      "✅ 9792 stars\n",
      "[50/55] Fetching nopSolutions/nopCommerce... "
     ]
    },
    {
     "name": "stdout",
     "output_type": "stream",
     "text": [
      "✅ 9720 stars\n",
      "[51/55] Fetching ThreeMammals/Ocelot... "
     ]
    },
    {
     "name": "stdout",
     "output_type": "stream",
     "text": [
      "✅ 8587 stars\n",
      "[52/55] Fetching OrchardCMS/OrchardCore... "
     ]
    },
    {
     "name": "stdout",
     "output_type": "stream",
     "text": [
      "✅ 7774 stars\n",
      "[53/55] Fetching dotnetcore/CAP... "
     ]
    },
    {
     "name": "stdout",
     "output_type": "stream",
     "text": [
      "✅ 6930 stars\n",
      "[54/55] Fetching gothinkster/aspnetcore-realworld-example-app... "
     ]
    },
    {
     "name": "stdout",
     "output_type": "stream",
     "text": [
      "✅ 2022 stars\n",
      "\n",
      "🔍 Processing Other repositories...\n",
      "[55/55] Fetching karpathy/nn-zero-to-hero... "
     ]
    },
    {
     "name": "stdout",
     "output_type": "stream",
     "text": [
      "✅ 15105 stars\n",
      "\n",
      "==================================================\n",
      "✅ Data collection completed!\n",
      "📊 Successfully collected data for 55 repositories\n",
      "⏱️  Total time: 118.97 seconds\n"
     ]
    }
   ],
   "source": [
    "# Cell 4: Data Collection\n",
    "\n",
    "# Get GitHub token from environment\n",
    "github_token = os.environ.get('GITHUB_TOKEN')\n",
    "\n",
    "print(\"🚀 Starting data collection...\")\n",
    "print(f\"Authentication: {'Enabled' if github_token else 'Disabled (60 requests/hour limit)'}\")\n",
    "print(\"=\"*50)\n",
    "\n",
    "# Collect all repository data\n",
    "start_time = time.time()\n",
    "results = fetch_all_repositories(repositories, github_token)\n",
    "end_time = time.time()\n",
    "\n",
    "print(\"\\n\" + \"=\"*50)\n",
    "print(f\"✅ Data collection completed!\")\n",
    "print(f\"📊 Successfully collected data for {len(results)} repositories\")\n",
    "print(f\"⏱️  Total time: {end_time - start_time:.2f} seconds\")\n",
    "\n",
    "if len(results) == 0:\n",
    "    print(\"❌ No data collected. Please check your internet connection and GitHub token.\")"
   ]
  },
  {
   "cell_type": "code",
   "execution_count": 5,
   "metadata": {
    "execution": {
     "iopub.execute_input": "2025-07-28T17:16:02.385860Z",
     "iopub.status.busy": "2025-07-28T17:16:02.385860Z",
     "iopub.status.idle": "2025-07-28T17:16:02.411864Z",
     "shell.execute_reply": "2025-07-28T17:16:02.411864Z"
    }
   },
   "outputs": [
    {
     "name": "stdout",
     "output_type": "stream",
     "text": [
      "📊 DataFrame created with 55 repositories\n",
      "📋 Columns: ['Name', 'Field', 'Stars', 'Forks', 'Contributors', 'Open Issues', 'Open Pull Requests', 'Date Created', 'Last Active']\n",
      "\n",
      "📈 Quick Stats:\n",
      "Total Stars: 2,314,807\n",
      "Total Forks: 462,626\n",
      "Average Stars: 42087\n",
      "Average Contributors: 1\n"
     ]
    }
   ],
   "source": [
    "# Cell 5: DataFrame Creation and Formatting\n",
    "\n",
    "if len(results) > 0:\n",
    "    # Create DataFrame\n",
    "    df = pd.DataFrame(results)\n",
    "    \n",
    "    # Rename columns to match requirements\n",
    "    df = df.rename(columns={\n",
    "        'field': 'Field',\n",
    "        'stars': 'Stars',\n",
    "        'forks': 'Forks',\n",
    "        'contributors': 'Contributors',\n",
    "        'open_issues': 'Open Issues',\n",
    "        'open_prs': 'Open Pull Requests',\n",
    "        'created_at': 'Date Created',\n",
    "        'pushed_at': 'Last Active'\n",
    "    })\n",
    "    \n",
    "    # Create clickable GitHub links\n",
    "    df['Name'] = df.apply(lambda row: f'<a href=\"https://github.com/{row[\"repo_path\"]}\" target=\"_blank\">{row[\"repo_path\"]}</a>', axis=1)\n",
    "    \n",
    "    # Drop the repo_path column\n",
    "    df = df.drop('repo_path', axis=1)\n",
    "    \n",
    "    # Reorder columns\n",
    "    column_order = ['Name', 'Field', 'Stars', 'Forks', 'Contributors', 'Open Issues', 'Open Pull Requests', 'Date Created', 'Last Active']\n",
    "    df = df[column_order]\n",
    "    \n",
    "    print(f\"📊 DataFrame created with {len(df)} repositories\")\n",
    "    print(f\"📋 Columns: {list(df.columns)}\")\n",
    "    \n",
    "    # Display basic info\n",
    "    print(\"\\n📈 Quick Stats:\")\n",
    "    print(f\"Total Stars: {df['Stars'].sum():,}\")\n",
    "    print(f\"Total Forks: {df['Forks'].sum():,}\")\n",
    "    print(f\"Average Stars: {df['Stars'].mean():.0f}\")\n",
    "    print(f\"Average Contributors: {df['Contributors'].mean():.0f}\")\n",
    "    \n",
    "else:\n",
    "    print(\"❌ Cannot create DataFrame - no data available\")"
   ]
  },
  {
   "cell_type": "code",
   "execution_count": 6,
   "metadata": {
    "execution": {
     "iopub.execute_input": "2025-07-28T17:16:02.413382Z",
     "iopub.status.busy": "2025-07-28T17:16:02.413382Z",
     "iopub.status.idle": "2025-07-28T17:16:02.459986Z",
     "shell.execute_reply": "2025-07-28T17:16:02.459986Z"
    }
   },
   "outputs": [
    {
     "name": "stdout",
     "output_type": "stream",
     "text": [
      "📊 GitHub Repository Statistics by Field\n",
      "\n",
      "\n",
      "## AI/ML Repositories (20 total)\n",
      "\n"
     ]
    },
    {
     "data": {
      "text/html": [
       "<div style='margin-bottom: 10px;'>**Field Summary:**\n",
       "- Total Stars: 1,624,352\n",
       "- Average Stars: 81218\n",
       "- Total Contributors: 20\n",
       "- Most Starred: tensorflow/tensorflow\n",
       "</div>"
      ],
      "text/plain": [
       "<IPython.core.display.HTML object>"
      ]
     },
     "metadata": {},
     "output_type": "display_data"
    },
    {
     "data": {
      "text/html": [
       "\n",
       "            <style>\n",
       "                .table {\n",
       "                    border-collapse: collapse;\n",
       "                    margin: 10px 0;\n",
       "                    font-size: 0.9em;\n",
       "                    width: 100%;\n",
       "                }\n",
       "                .table th {\n",
       "                    background-color: #f8f9fa;\n",
       "                    padding: 8px;\n",
       "                    text-align: left;\n",
       "                    border-bottom: 2px solid #dee2e6;\n",
       "                }\n",
       "                .table td {\n",
       "                    padding: 8px;\n",
       "                    border-bottom: 1px solid #dee2e6;\n",
       "                }\n",
       "                .table a {\n",
       "                    color: #0066cc;\n",
       "                    text-decoration: none;\n",
       "                }\n",
       "                .table a:hover {\n",
       "                    text-decoration: underline;\n",
       "                }\n",
       "            </style>\n",
       "            <table border=\"1\" class=\"dataframe table table-striped\" id=\"table-ai-ml\">\n",
       "  <thead>\n",
       "    <tr style=\"text-align: right;\">\n",
       "      <th>Name</th>\n",
       "      <th>Stars</th>\n",
       "      <th>Forks</th>\n",
       "      <th>Contributors</th>\n",
       "      <th>Open Issues</th>\n",
       "      <th>Open Pull Requests</th>\n",
       "      <th>Date Created</th>\n",
       "      <th>Last Active</th>\n",
       "    </tr>\n",
       "  </thead>\n",
       "  <tbody>\n",
       "    <tr>\n",
       "      <td><a href=\"https://github.com/tensorflow/tensorflow\" target=\"_blank\">tensorflow/tensorflow</a></td>\n",
       "      <td>190933</td>\n",
       "      <td>74769</td>\n",
       "      <td>1</td>\n",
       "      <td>1510</td>\n",
       "      <td>1</td>\n",
       "      <td>2015-11-07</td>\n",
       "      <td>2025-07-28</td>\n",
       "    </tr>\n",
       "    <tr>\n",
       "      <td><a href=\"https://github.com/Significant-Gravitas/AutoGPT\" target=\"_blank\">Significant-Gravitas/AutoGPT</a></td>\n",
       "      <td>177287</td>\n",
       "      <td>45904</td>\n",
       "      <td>1</td>\n",
       "      <td>212</td>\n",
       "      <td>1</td>\n",
       "      <td>2023-03-16</td>\n",
       "      <td>2025-07-28</td>\n",
       "    </tr>\n",
       "    <tr>\n",
       "      <td><a href=\"https://github.com/ollama/ollama\" target=\"_blank\">ollama/ollama</a></td>\n",
       "      <td>147790</td>\n",
       "      <td>12552</td>\n",
       "      <td>1</td>\n",
       "      <td>1957</td>\n",
       "      <td>1</td>\n",
       "      <td>2023-06-26</td>\n",
       "      <td>2025-07-27</td>\n",
       "    </tr>\n",
       "    <tr>\n",
       "      <td><a href=\"https://github.com/huggingface/transformers\" target=\"_blank\">huggingface/transformers</a></td>\n",
       "      <td>147573</td>\n",
       "      <td>29808</td>\n",
       "      <td>1</td>\n",
       "      <td>1897</td>\n",
       "      <td>1</td>\n",
       "      <td>2018-10-29</td>\n",
       "      <td>2025-07-28</td>\n",
       "    </tr>\n",
       "    <tr>\n",
       "      <td><a href=\"https://github.com/n8n-io/n8n\" target=\"_blank\">n8n-io/n8n</a></td>\n",
       "      <td>124448</td>\n",
       "      <td>37748</td>\n",
       "      <td>1</td>\n",
       "      <td>983</td>\n",
       "      <td>1</td>\n",
       "      <td>2019-06-22</td>\n",
       "      <td>2025-07-28</td>\n",
       "    </tr>\n",
       "    <tr>\n",
       "      <td><a href=\"https://github.com/langchain-ai/langchain\" target=\"_blank\">langchain-ai/langchain</a></td>\n",
       "      <td>112412</td>\n",
       "      <td>18351</td>\n",
       "      <td>1</td>\n",
       "      <td>277</td>\n",
       "      <td>1</td>\n",
       "      <td>2022-10-17</td>\n",
       "      <td>2025-07-28</td>\n",
       "    </tr>\n",
       "    <tr>\n",
       "      <td><a href=\"https://github.com/langgenius/dify\" target=\"_blank\">langgenius/dify</a></td>\n",
       "      <td>108749</td>\n",
       "      <td>16549</td>\n",
       "      <td>1</td>\n",
       "      <td>761</td>\n",
       "      <td>1</td>\n",
       "      <td>2023-04-12</td>\n",
       "      <td>2025-07-28</td>\n",
       "    </tr>\n",
       "    <tr>\n",
       "      <td><a href=\"https://github.com/open-webui/open-webui\" target=\"_blank\">open-webui/open-webui</a></td>\n",
       "      <td>104200</td>\n",
       "      <td>14012</td>\n",
       "      <td>1</td>\n",
       "      <td>286</td>\n",
       "      <td>1</td>\n",
       "      <td>2023-10-06</td>\n",
       "      <td>2025-07-28</td>\n",
       "    </tr>\n",
       "    <tr>\n",
       "      <td><a href=\"https://github.com/pytorch/pytorch\" target=\"_blank\">pytorch/pytorch</a></td>\n",
       "      <td>91835</td>\n",
       "      <td>24787</td>\n",
       "      <td>1</td>\n",
       "      <td>16649</td>\n",
       "      <td>1</td>\n",
       "      <td>2016-08-13</td>\n",
       "      <td>2025-07-28</td>\n",
       "    </tr>\n",
       "    <tr>\n",
       "      <td><a href=\"https://github.com/comfyanonymous/ComfyUI\" target=\"_blank\">comfyanonymous/ComfyUI</a></td>\n",
       "      <td>83714</td>\n",
       "      <td>9284</td>\n",
       "      <td>1</td>\n",
       "      <td>2603</td>\n",
       "      <td>1</td>\n",
       "      <td>2023-01-17</td>\n",
       "      <td>2025-07-28</td>\n",
       "    </tr>\n",
       "    <tr>\n",
       "      <td><a href=\"https://github.com/microsoft/ML-For-Beginners\" target=\"_blank\">microsoft/ML-For-Beginners</a></td>\n",
       "      <td>75759</td>\n",
       "      <td>16746</td>\n",
       "      <td>1</td>\n",
       "      <td>16</td>\n",
       "      <td>1</td>\n",
       "      <td>2021-03-03</td>\n",
       "      <td>2025-07-18</td>\n",
       "    </tr>\n",
       "    <tr>\n",
       "      <td><a href=\"https://github.com/scikit-learn/scikit-learn\" target=\"_blank\">scikit-learn/scikit-learn</a></td>\n",
       "      <td>62799</td>\n",
       "      <td>26086</td>\n",
       "      <td>1</td>\n",
       "      <td>2163</td>\n",
       "      <td>1</td>\n",
       "      <td>2010-08-17</td>\n",
       "      <td>2025-07-28</td>\n",
       "    </tr>\n",
       "    <tr>\n",
       "      <td><a href=\"https://github.com/vllm-project/vllm\" target=\"_blank\">vllm-project/vllm</a></td>\n",
       "      <td>53392</td>\n",
       "      <td>8975</td>\n",
       "      <td>1</td>\n",
       "      <td>2694</td>\n",
       "      <td>1</td>\n",
       "      <td>2023-02-09</td>\n",
       "      <td>2025-07-28</td>\n",
       "    </tr>\n",
       "    <tr>\n",
       "      <td><a href=\"https://github.com/pandas-dev/pandas\" target=\"_blank\">pandas-dev/pandas</a></td>\n",
       "      <td>46115</td>\n",
       "      <td>18730</td>\n",
       "      <td>1</td>\n",
       "      <td>3750</td>\n",
       "      <td>1</td>\n",
       "      <td>2010-08-24</td>\n",
       "      <td>2025-07-28</td>\n",
       "    </tr>\n",
       "    <tr>\n",
       "      <td><a href=\"https://github.com/HumanSignal/label-studio\" target=\"_blank\">HumanSignal/label-studio</a></td>\n",
       "      <td>23920</td>\n",
       "      <td>2949</td>\n",
       "      <td>1</td>\n",
       "      <td>1045</td>\n",
       "      <td>1</td>\n",
       "      <td>2019-06-19</td>\n",
       "      <td>2025-07-28</td>\n",
       "    </tr>\n",
       "    <tr>\n",
       "      <td><a href=\"https://github.com/fastai/fastbook\" target=\"_blank\">fastai/fastbook</a></td>\n",
       "      <td>23466</td>\n",
       "      <td>9039</td>\n",
       "      <td>1</td>\n",
       "      <td>169</td>\n",
       "      <td>1</td>\n",
       "      <td>2020-02-28</td>\n",
       "      <td>2024-08-16</td>\n",
       "    </tr>\n",
       "    <tr>\n",
       "      <td><a href=\"https://github.com/huggingface/trl\" target=\"_blank\">huggingface/trl</a></td>\n",
       "      <td>14768</td>\n",
       "      <td>2068</td>\n",
       "      <td>1</td>\n",
       "      <td>502</td>\n",
       "      <td>1</td>\n",
       "      <td>2020-03-27</td>\n",
       "      <td>2025-07-28</td>\n",
       "    </tr>\n",
       "    <tr>\n",
       "      <td><a href=\"https://github.com/iterative/dvc\" target=\"_blank\">iterative/dvc</a></td>\n",
       "      <td>14705</td>\n",
       "      <td>1240</td>\n",
       "      <td>1</td>\n",
       "      <td>233</td>\n",
       "      <td>1</td>\n",
       "      <td>2017-03-04</td>\n",
       "      <td>2025-07-28</td>\n",
       "    </tr>\n",
       "    <tr>\n",
       "      <td><a href=\"https://github.com/cleanlab/cleanlab\" target=\"_blank\">cleanlab/cleanlab</a></td>\n",
       "      <td>10742</td>\n",
       "      <td>837</td>\n",
       "      <td>1</td>\n",
       "      <td>102</td>\n",
       "      <td>1</td>\n",
       "      <td>2018-05-11</td>\n",
       "      <td>2025-07-11</td>\n",
       "    </tr>\n",
       "    <tr>\n",
       "      <td><a href=\"https://github.com/voxel51/fiftyone\" target=\"_blank\">voxel51/fiftyone</a></td>\n",
       "      <td>9745</td>\n",
       "      <td>654</td>\n",
       "      <td>1</td>\n",
       "      <td>604</td>\n",
       "      <td>1</td>\n",
       "      <td>2020-04-22</td>\n",
       "      <td>2025-07-28</td>\n",
       "    </tr>\n",
       "  </tbody>\n",
       "</table>\n",
       "            "
      ],
      "text/plain": [
       "<IPython.core.display.HTML object>"
      ]
     },
     "metadata": {},
     "output_type": "display_data"
    },
    {
     "name": "stdout",
     "output_type": "stream",
     "text": [
      "\n",
      "--------------------------------------------------------------------------------\n",
      "\n",
      "## TypeScript Repositories (21 total)\n",
      "\n"
     ]
    },
    {
     "data": {
      "text/html": [
       "<div style='margin-bottom: 10px;'>**Field Summary:**\n",
       "- Total Stars: 515,444\n",
       "- Average Stars: 24545\n",
       "- Total Contributors: 21\n",
       "- Most Starred: nestjs/nest\n",
       "</div>"
      ],
      "text/plain": [
       "<IPython.core.display.HTML object>"
      ]
     },
     "metadata": {},
     "output_type": "display_data"
    },
    {
     "data": {
      "text/html": [
       "\n",
       "            <style>\n",
       "                .table {\n",
       "                    border-collapse: collapse;\n",
       "                    margin: 10px 0;\n",
       "                    font-size: 0.9em;\n",
       "                    width: 100%;\n",
       "                }\n",
       "                .table th {\n",
       "                    background-color: #f8f9fa;\n",
       "                    padding: 8px;\n",
       "                    text-align: left;\n",
       "                    border-bottom: 2px solid #dee2e6;\n",
       "                }\n",
       "                .table td {\n",
       "                    padding: 8px;\n",
       "                    border-bottom: 1px solid #dee2e6;\n",
       "                }\n",
       "                .table a {\n",
       "                    color: #0066cc;\n",
       "                    text-decoration: none;\n",
       "                }\n",
       "                .table a:hover {\n",
       "                    text-decoration: underline;\n",
       "                }\n",
       "            </style>\n",
       "            <table border=\"1\" class=\"dataframe table table-striped\" id=\"table-typescript\">\n",
       "  <thead>\n",
       "    <tr style=\"text-align: right;\">\n",
       "      <th>Name</th>\n",
       "      <th>Stars</th>\n",
       "      <th>Forks</th>\n",
       "      <th>Contributors</th>\n",
       "      <th>Open Issues</th>\n",
       "      <th>Open Pull Requests</th>\n",
       "      <th>Date Created</th>\n",
       "      <th>Last Active</th>\n",
       "    </tr>\n",
       "  </thead>\n",
       "  <tbody>\n",
       "    <tr>\n",
       "      <td><a href=\"https://github.com/nestjs/nest\" target=\"_blank\">nestjs/nest</a></td>\n",
       "      <td>71980</td>\n",
       "      <td>7959</td>\n",
       "      <td>1</td>\n",
       "      <td>64</td>\n",
       "      <td>1</td>\n",
       "      <td>2017-02-04</td>\n",
       "      <td>2025-07-28</td>\n",
       "    </tr>\n",
       "    <tr>\n",
       "      <td><a href=\"https://github.com/lobehub/lobe-chat\" target=\"_blank\">lobehub/lobe-chat</a></td>\n",
       "      <td>63875</td>\n",
       "      <td>13276</td>\n",
       "      <td>1</td>\n",
       "      <td>946</td>\n",
       "      <td>1</td>\n",
       "      <td>2023-05-21</td>\n",
       "      <td>2025-07-28</td>\n",
       "    </tr>\n",
       "    <tr>\n",
       "      <td><a href=\"https://github.com/prisma/prisma\" target=\"_blank\">prisma/prisma</a></td>\n",
       "      <td>42966</td>\n",
       "      <td>1805</td>\n",
       "      <td>1</td>\n",
       "      <td>2334</td>\n",
       "      <td>1</td>\n",
       "      <td>2019-06-20</td>\n",
       "      <td>2025-07-28</td>\n",
       "    </tr>\n",
       "    <tr>\n",
       "      <td><a href=\"https://github.com/colinhacks/zod\" target=\"_blank\">colinhacks/zod</a></td>\n",
       "      <td>39247</td>\n",
       "      <td>1549</td>\n",
       "      <td>1</td>\n",
       "      <td>318</td>\n",
       "      <td>1</td>\n",
       "      <td>2020-03-07</td>\n",
       "      <td>2025-07-25</td>\n",
       "    </tr>\n",
       "    <tr>\n",
       "      <td><a href=\"https://github.com/trpc/trpc\" target=\"_blank\">trpc/trpc</a></td>\n",
       "      <td>38001</td>\n",
       "      <td>1395</td>\n",
       "      <td>1</td>\n",
       "      <td>185</td>\n",
       "      <td>1</td>\n",
       "      <td>2020-07-18</td>\n",
       "      <td>2025-07-22</td>\n",
       "    </tr>\n",
       "    <tr>\n",
       "      <td><a href=\"https://github.com/typeorm/typeorm\" target=\"_blank\">typeorm/typeorm</a></td>\n",
       "      <td>35593</td>\n",
       "      <td>6423</td>\n",
       "      <td>1</td>\n",
       "      <td>2468</td>\n",
       "      <td>1</td>\n",
       "      <td>2016-02-29</td>\n",
       "      <td>2025-07-28</td>\n",
       "    </tr>\n",
       "    <tr>\n",
       "      <td><a href=\"https://github.com/fastify/fastify\" target=\"_blank\">fastify/fastify</a></td>\n",
       "      <td>34231</td>\n",
       "      <td>2461</td>\n",
       "      <td>1</td>\n",
       "      <td>117</td>\n",
       "      <td>1</td>\n",
       "      <td>2016-09-28</td>\n",
       "      <td>2025-07-28</td>\n",
       "    </tr>\n",
       "    <tr>\n",
       "      <td><a href=\"https://github.com/sequelize/sequelize\" target=\"_blank\">sequelize/sequelize</a></td>\n",
       "      <td>30098</td>\n",
       "      <td>4297</td>\n",
       "      <td>1</td>\n",
       "      <td>985</td>\n",
       "      <td>1</td>\n",
       "      <td>2010-07-22</td>\n",
       "      <td>2025-07-27</td>\n",
       "    </tr>\n",
       "    <tr>\n",
       "      <td><a href=\"https://github.com/drizzle-team/drizzle-orm\" target=\"_blank\">drizzle-team/drizzle-orm</a></td>\n",
       "      <td>29458</td>\n",
       "      <td>947</td>\n",
       "      <td>1</td>\n",
       "      <td>1657</td>\n",
       "      <td>1</td>\n",
       "      <td>2021-06-24</td>\n",
       "      <td>2025-07-28</td>\n",
       "    </tr>\n",
       "    <tr>\n",
       "      <td><a href=\"https://github.com/winstonjs/winston\" target=\"_blank\">winstonjs/winston</a></td>\n",
       "      <td>23836</td>\n",
       "      <td>1833</td>\n",
       "      <td>1</td>\n",
       "      <td>514</td>\n",
       "      <td>1</td>\n",
       "      <td>2010-12-29</td>\n",
       "      <td>2025-07-14</td>\n",
       "    </tr>\n",
       "    <tr>\n",
       "      <td><a href=\"https://github.com/adonisjs/core\" target=\"_blank\">adonisjs/core</a></td>\n",
       "      <td>18068</td>\n",
       "      <td>653</td>\n",
       "      <td>1</td>\n",
       "      <td>3</td>\n",
       "      <td>1</td>\n",
       "      <td>2015-08-15</td>\n",
       "      <td>2025-07-17</td>\n",
       "    </tr>\n",
       "    <tr>\n",
       "      <td><a href=\"https://github.com/vercel/ai\" target=\"_blank\">vercel/ai</a></td>\n",
       "      <td>16080</td>\n",
       "      <td>2627</td>\n",
       "      <td>1</td>\n",
       "      <td>643</td>\n",
       "      <td>1</td>\n",
       "      <td>2023-05-23</td>\n",
       "      <td>2025-07-28</td>\n",
       "    </tr>\n",
       "    <tr>\n",
       "      <td><a href=\"https://github.com/pinojs/pino\" target=\"_blank\">pinojs/pino</a></td>\n",
       "      <td>15840</td>\n",
       "      <td>911</td>\n",
       "      <td>1</td>\n",
       "      <td>143</td>\n",
       "      <td>1</td>\n",
       "      <td>2016-02-16</td>\n",
       "      <td>2025-07-27</td>\n",
       "    </tr>\n",
       "    <tr>\n",
       "      <td><a href=\"https://github.com/kysely-org/kysely\" target=\"_blank\">kysely-org/kysely</a></td>\n",
       "      <td>12395</td>\n",
       "      <td>325</td>\n",
       "      <td>1</td>\n",
       "      <td>136</td>\n",
       "      <td>1</td>\n",
       "      <td>2021-02-22</td>\n",
       "      <td>2025-07-26</td>\n",
       "    </tr>\n",
       "    <tr>\n",
       "      <td><a href=\"https://github.com/helmetjs/helmet\" target=\"_blank\">helmetjs/helmet</a></td>\n",
       "      <td>10465</td>\n",
       "      <td>382</td>\n",
       "      <td>1</td>\n",
       "      <td>2</td>\n",
       "      <td>0</td>\n",
       "      <td>2012-02-01</td>\n",
       "      <td>2025-07-22</td>\n",
       "    </tr>\n",
       "    <tr>\n",
       "      <td><a href=\"https://github.com/mikro-orm/mikro-orm\" target=\"_blank\">mikro-orm/mikro-orm</a></td>\n",
       "      <td>8405</td>\n",
       "      <td>584</td>\n",
       "      <td>1</td>\n",
       "      <td>58</td>\n",
       "      <td>1</td>\n",
       "      <td>2018-03-15</td>\n",
       "      <td>2025-07-28</td>\n",
       "    </tr>\n",
       "    <tr>\n",
       "      <td><a href=\"https://github.com/taskforcesh/bullmq\" target=\"_blank\">taskforcesh/bullmq</a></td>\n",
       "      <td>7288</td>\n",
       "      <td>486</td>\n",
       "      <td>1</td>\n",
       "      <td>313</td>\n",
       "      <td>1</td>\n",
       "      <td>2018-12-19</td>\n",
       "      <td>2025-07-27</td>\n",
       "    </tr>\n",
       "    <tr>\n",
       "      <td><a href=\"https://github.com/moleculerjs/moleculer\" target=\"_blank\">moleculerjs/moleculer</a></td>\n",
       "      <td>6301</td>\n",
       "      <td>595</td>\n",
       "      <td>1</td>\n",
       "      <td>71</td>\n",
       "      <td>1</td>\n",
       "      <td>2017-02-17</td>\n",
       "      <td>2025-06-25</td>\n",
       "    </tr>\n",
       "    <tr>\n",
       "      <td><a href=\"https://github.com/typestack/routing-controllers\" target=\"_blank\">typestack/routing-controllers</a></td>\n",
       "      <td>4479</td>\n",
       "      <td>402</td>\n",
       "      <td>1</td>\n",
       "      <td>91</td>\n",
       "      <td>1</td>\n",
       "      <td>2015-09-30</td>\n",
       "      <td>2025-07-22</td>\n",
       "    </tr>\n",
       "    <tr>\n",
       "      <td><a href=\"https://github.com/lukeautry/tsoa\" target=\"_blank\">lukeautry/tsoa</a></td>\n",
       "      <td>3841</td>\n",
       "      <td>525</td>\n",
       "      <td>1</td>\n",
       "      <td>142</td>\n",
       "      <td>1</td>\n",
       "      <td>2016-06-17</td>\n",
       "      <td>2025-07-22</td>\n",
       "    </tr>\n",
       "    <tr>\n",
       "      <td><a href=\"https://github.com/tsedio/tsed\" target=\"_blank\">tsedio/tsed</a></td>\n",
       "      <td>2997</td>\n",
       "      <td>294</td>\n",
       "      <td>1</td>\n",
       "      <td>47</td>\n",
       "      <td>1</td>\n",
       "      <td>2016-02-21</td>\n",
       "      <td>2025-07-25</td>\n",
       "    </tr>\n",
       "  </tbody>\n",
       "</table>\n",
       "            "
      ],
      "text/plain": [
       "<IPython.core.display.HTML object>"
      ]
     },
     "metadata": {},
     "output_type": "display_data"
    },
    {
     "name": "stdout",
     "output_type": "stream",
     "text": [
      "\n",
      "--------------------------------------------------------------------------------\n",
      "\n",
      "## C# ASP.NET Repositories (13 total)\n",
      "\n"
     ]
    },
    {
     "data": {
      "text/html": [
       "<div style='margin-bottom: 10px;'>**Field Summary:**\n",
       "- Total Stars: 159,906\n",
       "- Average Stars: 12300\n",
       "- Total Contributors: 13\n",
       "- Most Starred: dotnet/aspnetcore\n",
       "</div>"
      ],
      "text/plain": [
       "<IPython.core.display.HTML object>"
      ]
     },
     "metadata": {},
     "output_type": "display_data"
    },
    {
     "data": {
      "text/html": [
       "\n",
       "            <style>\n",
       "                .table {\n",
       "                    border-collapse: collapse;\n",
       "                    margin: 10px 0;\n",
       "                    font-size: 0.9em;\n",
       "                    width: 100%;\n",
       "                }\n",
       "                .table th {\n",
       "                    background-color: #f8f9fa;\n",
       "                    padding: 8px;\n",
       "                    text-align: left;\n",
       "                    border-bottom: 2px solid #dee2e6;\n",
       "                }\n",
       "                .table td {\n",
       "                    padding: 8px;\n",
       "                    border-bottom: 1px solid #dee2e6;\n",
       "                }\n",
       "                .table a {\n",
       "                    color: #0066cc;\n",
       "                    text-decoration: none;\n",
       "                }\n",
       "                .table a:hover {\n",
       "                    text-decoration: underline;\n",
       "                }\n",
       "            </style>\n",
       "            <table border=\"1\" class=\"dataframe table table-striped\" id=\"table-csharp-asp.net\">\n",
       "  <thead>\n",
       "    <tr style=\"text-align: right;\">\n",
       "      <th>Name</th>\n",
       "      <th>Stars</th>\n",
       "      <th>Forks</th>\n",
       "      <th>Contributors</th>\n",
       "      <th>Open Issues</th>\n",
       "      <th>Open Pull Requests</th>\n",
       "      <th>Date Created</th>\n",
       "      <th>Last Active</th>\n",
       "    </tr>\n",
       "  </thead>\n",
       "  <tbody>\n",
       "    <tr>\n",
       "      <td><a href=\"https://github.com/dotnet/aspnetcore\" target=\"_blank\">dotnet/aspnetcore</a></td>\n",
       "      <td>36917</td>\n",
       "      <td>10415</td>\n",
       "      <td>1</td>\n",
       "      <td>3803</td>\n",
       "      <td>1</td>\n",
       "      <td>2014-03-11</td>\n",
       "      <td>2025-07-28</td>\n",
       "    </tr>\n",
       "    <tr>\n",
       "      <td><a href=\"https://github.com/jasontaylordev/CleanArchitecture\" target=\"_blank\">jasontaylordev/CleanArchitecture</a></td>\n",
       "      <td>18569</td>\n",
       "      <td>3923</td>\n",
       "      <td>1</td>\n",
       "      <td>23</td>\n",
       "      <td>1</td>\n",
       "      <td>2019-10-07</td>\n",
       "      <td>2025-07-25</td>\n",
       "    </tr>\n",
       "    <tr>\n",
       "      <td><a href=\"https://github.com/DapperLib/Dapper\" target=\"_blank\">DapperLib/Dapper</a></td>\n",
       "      <td>17996</td>\n",
       "      <td>3681</td>\n",
       "      <td>1</td>\n",
       "      <td>527</td>\n",
       "      <td>1</td>\n",
       "      <td>2011-04-14</td>\n",
       "      <td>2025-06-01</td>\n",
       "    </tr>\n",
       "    <tr>\n",
       "      <td><a href=\"https://github.com/dotnet/efcore\" target=\"_blank\">dotnet/efcore</a></td>\n",
       "      <td>14229</td>\n",
       "      <td>3284</td>\n",
       "      <td>1</td>\n",
       "      <td>2435</td>\n",
       "      <td>1</td>\n",
       "      <td>2014-01-23</td>\n",
       "      <td>2025-07-28</td>\n",
       "    </tr>\n",
       "    <tr>\n",
       "      <td><a href=\"https://github.com/App-vNext/Polly\" target=\"_blank\">App-vNext/Polly</a></td>\n",
       "      <td>13877</td>\n",
       "      <td>1260</td>\n",
       "      <td>1</td>\n",
       "      <td>12</td>\n",
       "      <td>1</td>\n",
       "      <td>2013-05-05</td>\n",
       "      <td>2025-07-24</td>\n",
       "    </tr>\n",
       "    <tr>\n",
       "      <td><a href=\"https://github.com/dotnet/orleans\" target=\"_blank\">dotnet/orleans</a></td>\n",
       "      <td>10441</td>\n",
       "      <td>2092</td>\n",
       "      <td>1</td>\n",
       "      <td>636</td>\n",
       "      <td>1</td>\n",
       "      <td>2014-12-19</td>\n",
       "      <td>2025-07-24</td>\n",
       "    </tr>\n",
       "    <tr>\n",
       "      <td><a href=\"https://github.com/HangfireIO/Hangfire\" target=\"_blank\">HangfireIO/Hangfire</a></td>\n",
       "      <td>9792</td>\n",
       "      <td>1731</td>\n",
       "      <td>1</td>\n",
       "      <td>939</td>\n",
       "      <td>1</td>\n",
       "      <td>2013-08-06</td>\n",
       "      <td>2025-07-25</td>\n",
       "    </tr>\n",
       "    <tr>\n",
       "      <td><a href=\"https://github.com/nopSolutions/nopCommerce\" target=\"_blank\">nopSolutions/nopCommerce</a></td>\n",
       "      <td>9720</td>\n",
       "      <td>5616</td>\n",
       "      <td>1</td>\n",
       "      <td>163</td>\n",
       "      <td>1</td>\n",
       "      <td>2014-04-09</td>\n",
       "      <td>2025-07-28</td>\n",
       "    </tr>\n",
       "    <tr>\n",
       "      <td><a href=\"https://github.com/ThreeMammals/Ocelot\" target=\"_blank\">ThreeMammals/Ocelot</a></td>\n",
       "      <td>8587</td>\n",
       "      <td>1666</td>\n",
       "      <td>1</td>\n",
       "      <td>70</td>\n",
       "      <td>1</td>\n",
       "      <td>2016-06-29</td>\n",
       "      <td>2025-07-26</td>\n",
       "    </tr>\n",
       "    <tr>\n",
       "      <td><a href=\"https://github.com/OrchardCMS/OrchardCore\" target=\"_blank\">OrchardCMS/OrchardCore</a></td>\n",
       "      <td>7774</td>\n",
       "      <td>2481</td>\n",
       "      <td>1</td>\n",
       "      <td>940</td>\n",
       "      <td>1</td>\n",
       "      <td>2014-11-19</td>\n",
       "      <td>2025-07-28</td>\n",
       "    </tr>\n",
       "    <tr>\n",
       "      <td><a href=\"https://github.com/dotnetcore/CAP\" target=\"_blank\">dotnetcore/CAP</a></td>\n",
       "      <td>6930</td>\n",
       "      <td>1315</td>\n",
       "      <td>1</td>\n",
       "      <td>5</td>\n",
       "      <td>1</td>\n",
       "      <td>2016-12-14</td>\n",
       "      <td>2025-07-28</td>\n",
       "    </tr>\n",
       "    <tr>\n",
       "      <td><a href=\"https://github.com/aspnetrun/run-aspnetcore-microservices\" target=\"_blank\">aspnetrun/run-aspnetcore-microservices</a></td>\n",
       "      <td>3052</td>\n",
       "      <td>1650</td>\n",
       "      <td>1</td>\n",
       "      <td>41</td>\n",
       "      <td>1</td>\n",
       "      <td>2019-04-14</td>\n",
       "      <td>2025-07-11</td>\n",
       "    </tr>\n",
       "    <tr>\n",
       "      <td><a href=\"https://github.com/gothinkster/aspnetcore-realworld-example-app\" target=\"_blank\">gothinkster/aspnetcore-realworld-example-app</a></td>\n",
       "      <td>2022</td>\n",
       "      <td>575</td>\n",
       "      <td>1</td>\n",
       "      <td>18</td>\n",
       "      <td>0</td>\n",
       "      <td>2017-05-16</td>\n",
       "      <td>2025-07-08</td>\n",
       "    </tr>\n",
       "  </tbody>\n",
       "</table>\n",
       "            "
      ],
      "text/plain": [
       "<IPython.core.display.HTML object>"
      ]
     },
     "metadata": {},
     "output_type": "display_data"
    },
    {
     "name": "stdout",
     "output_type": "stream",
     "text": [
      "\n",
      "--------------------------------------------------------------------------------\n",
      "\n",
      "## Other Repositories (1 total)\n",
      "\n"
     ]
    },
    {
     "data": {
      "text/html": [
       "<div style='margin-bottom: 10px;'>**Field Summary:**\n",
       "- Total Stars: 15,105\n",
       "- Average Stars: 15105\n",
       "- Total Contributors: 1\n",
       "- Most Starred: karpathy/nn-zero-to-hero\n",
       "</div>"
      ],
      "text/plain": [
       "<IPython.core.display.HTML object>"
      ]
     },
     "metadata": {},
     "output_type": "display_data"
    },
    {
     "data": {
      "text/html": [
       "\n",
       "            <style>\n",
       "                .table {\n",
       "                    border-collapse: collapse;\n",
       "                    margin: 10px 0;\n",
       "                    font-size: 0.9em;\n",
       "                    width: 100%;\n",
       "                }\n",
       "                .table th {\n",
       "                    background-color: #f8f9fa;\n",
       "                    padding: 8px;\n",
       "                    text-align: left;\n",
       "                    border-bottom: 2px solid #dee2e6;\n",
       "                }\n",
       "                .table td {\n",
       "                    padding: 8px;\n",
       "                    border-bottom: 1px solid #dee2e6;\n",
       "                }\n",
       "                .table a {\n",
       "                    color: #0066cc;\n",
       "                    text-decoration: none;\n",
       "                }\n",
       "                .table a:hover {\n",
       "                    text-decoration: underline;\n",
       "                }\n",
       "            </style>\n",
       "            <table border=\"1\" class=\"dataframe table table-striped\" id=\"table-other\">\n",
       "  <thead>\n",
       "    <tr style=\"text-align: right;\">\n",
       "      <th>Name</th>\n",
       "      <th>Stars</th>\n",
       "      <th>Forks</th>\n",
       "      <th>Contributors</th>\n",
       "      <th>Open Issues</th>\n",
       "      <th>Open Pull Requests</th>\n",
       "      <th>Date Created</th>\n",
       "      <th>Last Active</th>\n",
       "    </tr>\n",
       "  </thead>\n",
       "  <tbody>\n",
       "    <tr>\n",
       "      <td><a href=\"https://github.com/karpathy/nn-zero-to-hero\" target=\"_blank\">karpathy/nn-zero-to-hero</a></td>\n",
       "      <td>15105</td>\n",
       "      <td>2120</td>\n",
       "      <td>1</td>\n",
       "      <td>43</td>\n",
       "      <td>1</td>\n",
       "      <td>2022-09-08</td>\n",
       "      <td>2024-08-18</td>\n",
       "    </tr>\n",
       "  </tbody>\n",
       "</table>\n",
       "            "
      ],
      "text/plain": [
       "<IPython.core.display.HTML object>"
      ]
     },
     "metadata": {},
     "output_type": "display_data"
    },
    {
     "name": "stdout",
     "output_type": "stream",
     "text": [
      "\n",
      "--------------------------------------------------------------------------------\n"
     ]
    }
   ],
   "source": [
    "# Cell 6: Display Grouped Tables\n",
    "\n",
    "if 'df' in locals() and len(df) > 0:\n",
    "    print(\"📊 GitHub Repository Statistics by Field\\n\")\n",
    "    \n",
    "    # Define field order for consistent display\n",
    "    field_order = ['AI/ML', 'TypeScript', 'C# ASP.NET', 'Other']\n",
    "    \n",
    "    for field in field_order:\n",
    "        if field in df['Field'].values:\n",
    "            field_df = df[df['Field'] == field].sort_values('Stars', ascending=False)\n",
    "            \n",
    "            print(f\"\\n## {field} Repositories ({len(field_df)} total)\\n\")\n",
    "            \n",
    "            # Display stats for this field\n",
    "            field_stats = f\"\"\"**Field Summary:**\n",
    "- Total Stars: {field_df['Stars'].sum():,}\n",
    "- Average Stars: {field_df['Stars'].mean():.0f}\n",
    "- Total Contributors: {field_df['Contributors'].sum():,}\n",
    "- Most Starred: {field_df.iloc[0]['Name'].split('>')[-2].split('<')[0] if len(field_df) > 0 else 'N/A'}\n",
    "\"\"\"\n",
    "            display(HTML(f\"<div style='margin-bottom: 10px;'>{field_stats}</div>\"))\n",
    "            \n",
    "            # Create a copy for display (remove Field column since it's redundant in grouped view)\n",
    "            display_df = field_df.drop('Field', axis=1).reset_index(drop=True)\n",
    "            \n",
    "            # Style the table\n",
    "            styled_html = display_df.to_html(escape=False, index=False, classes='table table-striped', table_id=f'table-{field.lower().replace(\" \", \"-\").replace(\"#\", \"sharp\").replace(\"/\", \"-\")}')\n",
    "            \n",
    "            # Add some custom styling\n",
    "            styled_html = f\"\"\"\n",
    "            <style>\n",
    "                .table {{\n",
    "                    border-collapse: collapse;\n",
    "                    margin: 10px 0;\n",
    "                    font-size: 0.9em;\n",
    "                    width: 100%;\n",
    "                }}\n",
    "                .table th {{\n",
    "                    background-color: #f8f9fa;\n",
    "                    padding: 8px;\n",
    "                    text-align: left;\n",
    "                    border-bottom: 2px solid #dee2e6;\n",
    "                }}\n",
    "                .table td {{\n",
    "                    padding: 8px;\n",
    "                    border-bottom: 1px solid #dee2e6;\n",
    "                }}\n",
    "                .table a {{\n",
    "                    color: #0066cc;\n",
    "                    text-decoration: none;\n",
    "                }}\n",
    "                .table a:hover {{\n",
    "                    text-decoration: underline;\n",
    "                }}\n",
    "            </style>\n",
    "            {styled_html}\n",
    "            \"\"\"\n",
    "            \n",
    "            display(HTML(styled_html))\n",
    "            print(\"\\n\" + \"-\"*80)\n",
    "            \n",
    "else:\n",
    "    print(\"❌ No data available to display\")"
   ]
  },
  {
   "cell_type": "code",
   "execution_count": 7,
   "metadata": {
    "execution": {
     "iopub.execute_input": "2025-07-28T17:16:02.459986Z",
     "iopub.status.busy": "2025-07-28T17:16:02.459986Z",
     "iopub.status.idle": "2025-07-28T17:16:02.486088Z",
     "shell.execute_reply": "2025-07-28T17:16:02.486088Z"
    }
   },
   "outputs": [
    {
     "name": "stdout",
     "output_type": "stream",
     "text": [
      "💾 Results exported to github_repository_stats.csv\n",
      "\n",
      "============================================================\n",
      "📈 FINAL SUMMARY\n",
      "============================================================\n",
      "\n",
      "📊 Total repositories analyzed: 55\n",
      "\n",
      "📋 Repositories by field:\n",
      "  • AI/ML: 20 repositories (1,624,352 total stars)\n",
      "  • TypeScript: 21 repositories (515,444 total stars)\n",
      "  • C# ASP.NET: 13 repositories (159,906 total stars)\n",
      "  • Other: 1 repositories (15,105 total stars)\n",
      "\n",
      "🏆 Top 5 most starred repositories:\n",
      "  190,933 ⭐ tensorflow/tensorflow (AI/ML)\n",
      "  177,287 ⭐ Significant-Gravitas/AutoGPT (AI/ML)\n",
      "  147,790 ⭐ ollama/ollama (AI/ML)\n",
      "  147,573 ⭐ huggingface/transformers (AI/ML)\n",
      "  124,448 ⭐ n8n-io/n8n (AI/ML)\n",
      "\n",
      "📊 Overall statistics:\n",
      "  • Total stars across all repos: 2,314,807\n",
      "  • Total forks across all repos: 462,626\n",
      "  • Total contributors: 55\n",
      "  • Average stars per repo: 42087\n",
      "  • Average contributors per repo: 1\n",
      "\n",
      "✅ Analysis complete!\n"
     ]
    }
   ],
   "source": [
    "# Cell 7: Export and Summary\n",
    "\n",
    "if 'df' in locals() and len(df) > 0:\n",
    "    # Create export version (remove HTML tags from Name column)\n",
    "    df_export = df.copy()\n",
    "    df_export['Name'] = df_export['Name'].str.replace('<[^<]+?>', '', regex=True)\n",
    "    \n",
    "    # Export to CSV\n",
    "    csv_filename = 'github_repository_stats.csv'\n",
    "    df_export.to_csv(csv_filename, index=False)\n",
    "    print(f\"💾 Results exported to {csv_filename}\")\n",
    "    \n",
    "    # Display final summary\n",
    "    print(\"\\n\" + \"=\"*60)\n",
    "    print(\"📈 FINAL SUMMARY\")\n",
    "    print(\"=\"*60)\n",
    "    \n",
    "    print(f\"\\n📊 Total repositories analyzed: {len(df)}\")\n",
    "    \n",
    "    print(\"\\n📋 Repositories by field:\")\n",
    "    for field in df['Field'].unique():\n",
    "        count = len(df[df['Field'] == field])\n",
    "        total_stars = df[df['Field'] == field]['Stars'].sum()\n",
    "        print(f\"  • {field}: {count} repositories ({total_stars:,} total stars)\")\n",
    "    \n",
    "    print(\"\\n🏆 Top 5 most starred repositories:\")\n",
    "    top_5 = df.nlargest(5, 'Stars')[['Name', 'Field', 'Stars']].copy()\n",
    "    top_5['Name'] = top_5['Name'].str.replace('<[^<]+?>', '', regex=True)\n",
    "    for idx, row in top_5.iterrows():\n",
    "        print(f\"  {row['Stars']:,} ⭐ {row['Name']} ({row['Field']})\")\n",
    "    \n",
    "    print(\"\\n📊 Overall statistics:\")\n",
    "    print(f\"  • Total stars across all repos: {df['Stars'].sum():,}\")\n",
    "    print(f\"  • Total forks across all repos: {df['Forks'].sum():,}\")\n",
    "    print(f\"  • Total contributors: {df['Contributors'].sum():,}\")\n",
    "    print(f\"  • Average stars per repo: {df['Stars'].mean():.0f}\")\n",
    "    print(f\"  • Average contributors per repo: {df['Contributors'].mean():.0f}\")\n",
    "    \n",
    "    print(\"\\n✅ Analysis complete!\")\n",
    "    \n",
    "else:\n",
    "    print(\"❌ No data available for export and summary\")"
   ]
  }
 ],
 "metadata": {
  "kernelspec": {
   "display_name": "Python 3",
   "language": "python",
   "name": "python3"
  },
  "language_info": {
   "codemirror_mode": {
    "name": "ipython",
    "version": 3
   },
   "file_extension": ".py",
   "mimetype": "text/x-python",
   "name": "python",
   "nbconvert_exporter": "python",
   "pygments_lexer": "ipython3",
   "version": "3.13.5"
  }
 },
 "nbformat": 4,
 "nbformat_minor": 4
}
